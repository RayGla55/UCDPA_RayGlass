{
 "cells": [
  {
   "cell_type": "code",
   "execution_count": 1,
   "id": "07159e4f",
   "metadata": {},
   "outputs": [],
   "source": [
    "import time\n",
    "import datetime\n",
    "import pandas as pd"
   ]
  },
  {
   "cell_type": "code",
   "execution_count": 2,
   "id": "927425ce",
   "metadata": {},
   "outputs": [
    {
     "name": "stdout",
     "output_type": "stream",
     "text": [
      "Enter Ticker 1AAPL\n",
      "Enter Ticker 2MSFT\n"
     ]
    }
   ],
   "source": [
    "ticker1 = input('Enter Ticker 1')\n",
    "ticker2 = input('Enter Ticker 2')\n",
    "period1 = int(time.mktime(datetime.datetime(2020, 1, 1, 23, 59).timetuple()))\n",
    "period2 = int(time.mktime(datetime.datetime(2020, 12, 31, 23, 59).timetuple()))\n",
    "interval = '1d'"
   ]
  },
  {
   "cell_type": "code",
   "execution_count": 3,
   "id": "1533a570",
   "metadata": {},
   "outputs": [],
   "source": [
    "query_string1 = f'https://query1.finance.yahoo.com/v7/finance/download/{ticker1}?period1={period1}&period2={period2}&interval={interval}&events=history&includeAdjustedClose=true'"
   ]
  },
  {
   "cell_type": "code",
   "execution_count": 4,
   "id": "c0a1892d",
   "metadata": {},
   "outputs": [],
   "source": [
    "query_string2 = f'https://query1.finance.yahoo.com/v7/finance/download/{ticker2}?period1={period1}&period2={period2}&interval={interval}&events=history&includeAdjustedClose=true'"
   ]
  },
  {
   "cell_type": "code",
   "execution_count": 5,
   "id": "3b57f3c4",
   "metadata": {},
   "outputs": [],
   "source": [
    "tickperiod1 = pd.read_csv(query_string1)"
   ]
  },
  {
   "cell_type": "code",
   "execution_count": 6,
   "id": "01dfd164",
   "metadata": {},
   "outputs": [
    {
     "name": "stdout",
     "output_type": "stream",
     "text": [
      "         Date       Open       High        Low      Close  Adj Close  \\\n",
      "0  2020-01-02  74.059998  75.150002  73.797501  75.087502  74.207466   \n",
      "1  2020-01-03  74.287498  75.144997  74.125000  74.357498  73.486023   \n",
      "2  2020-01-06  73.447502  74.989998  73.187500  74.949997  74.071579   \n",
      "3  2020-01-07  74.959999  75.224998  74.370003  74.597504  73.723213   \n",
      "4  2020-01-08  74.290001  76.110001  74.290001  75.797501  74.909149   \n",
      "\n",
      "      Volume  \n",
      "0  135480400  \n",
      "1  146322800  \n",
      "2  118387200  \n",
      "3  108872000  \n",
      "4  132079200  \n"
     ]
    }
   ],
   "source": [
    "print(tickperiod1.head())"
   ]
  },
  {
   "cell_type": "code",
   "execution_count": 7,
   "id": "faf0677b",
   "metadata": {},
   "outputs": [],
   "source": [
    "tickperiod2 = pd.read_csv(query_string2)"
   ]
  },
  {
   "cell_type": "code",
   "execution_count": 9,
   "id": "ddca1096",
   "metadata": {},
   "outputs": [
    {
     "name": "stdout",
     "output_type": "stream",
     "text": [
      "         Date        Open        High         Low       Close   Adj Close  \\\n",
      "0  2020-01-02  158.779999  160.729996  158.330002  160.619995  158.205765   \n",
      "1  2020-01-03  158.320007  159.949997  158.059998  158.619995  156.235825   \n",
      "2  2020-01-06  157.080002  159.100006  156.509995  159.029999  156.639694   \n",
      "3  2020-01-07  159.320007  159.669998  157.320007  157.580002  155.211456   \n",
      "4  2020-01-08  158.929993  160.800003  157.949997  160.089996  157.683731   \n",
      "\n",
      "     Volume  \n",
      "0  22622100  \n",
      "1  21116200  \n",
      "2  20813700  \n",
      "3  21634100  \n",
      "4  27746500  \n"
     ]
    }
   ],
   "source": [
    "print(tickperiod2.head())"
   ]
  },
  {
   "cell_type": "code",
   "execution_count": null,
   "id": "19f34d57",
   "metadata": {},
   "outputs": [],
   "source": []
  }
 ],
 "metadata": {
  "kernelspec": {
   "display_name": "Python 3",
   "language": "python",
   "name": "python3"
  },
  "language_info": {
   "codemirror_mode": {
    "name": "ipython",
    "version": 3
   },
   "file_extension": ".py",
   "mimetype": "text/x-python",
   "name": "python",
   "nbconvert_exporter": "python",
   "pygments_lexer": "ipython3",
   "version": "3.8.8"
  }
 },
 "nbformat": 4,
 "nbformat_minor": 5
}
