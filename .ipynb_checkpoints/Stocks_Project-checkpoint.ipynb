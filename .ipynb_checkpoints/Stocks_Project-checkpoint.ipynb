{
 "cells": [
  {
   "cell_type": "code",
   "execution_count": 1,
   "id": "21f66606",
   "metadata": {},
   "outputs": [],
   "source": [
    "#Import Packages used in the following analysis\n",
    "import pandas as pd\n",
    "import numpy as np\n",
    "import seaborn as sns\n",
    "import matplotlib.pyplot as plt\n",
    "import time\n",
    "import datetime"
   ]
  },
  {
   "cell_type": "code",
   "execution_count": 2,
   "id": "35f4cc5b",
   "metadata": {},
   "outputs": [
    {
     "name": "stdout",
     "output_type": "stream",
     "text": [
      "['Index Weightings']\n"
     ]
    }
   ],
   "source": [
    "#Pandas Data Frame using date derived from an Excel Spreadsheet\n",
    "#Print to confirm the Sheet has been read correctly\n",
    "spwgt = pd.ExcelFile('SP_Weightings1.xlsx')\n",
    "print(spwgt.sheet_names)"
   ]
  },
  {
   "cell_type": "code",
   "execution_count": 3,
   "id": "0b074ab3",
   "metadata": {},
   "outputs": [],
   "source": [
    "#Import the data from Index Weightings Tab (Index 0) using parse\n",
    "spwgt1 = spwgt.parse(0)"
   ]
  },
  {
   "cell_type": "code",
   "execution_count": 4,
   "id": "bbba0f4d",
   "metadata": {},
   "outputs": [
    {
     "name": "stdout",
     "output_type": "stream",
     "text": [
      "<class 'pandas.core.frame.DataFrame'>\n",
      "RangeIndex: 505 entries, 0 to 504\n",
      "Data columns (total 2 columns):\n",
      " #   Column  Non-Null Count  Dtype  \n",
      "---  ------  --------------  -----  \n",
      " 0   Symbol  505 non-null    object \n",
      " 1   Weight  505 non-null    float64\n",
      "dtypes: float64(1), object(1)\n",
      "memory usage: 8.0+ KB\n",
      "  Symbol    Weight\n",
      "0   AAPL  6.115734\n",
      "1   MSFT  5.635407\n",
      "2   AMZN  4.301124\n",
      "3     FB  2.283107\n",
      "4  GOOGL  2.060597\n"
     ]
    }
   ],
   "source": [
    "#Confirmation of the Excel read and a print out of the Data Frame head\n",
    "spwgt1.info()\n",
    "print(spwgt1.head())"
   ]
  },
  {
   "cell_type": "code",
   "execution_count": 5,
   "id": "210441b0",
   "metadata": {},
   "outputs": [
    {
     "name": "stdout",
     "output_type": "stream",
     "text": [
      "  Symbol                 Name       Sector\n",
      "0    MMM                   3M  Industrials\n",
      "1    AOS          A. O. Smith  Industrials\n",
      "2    ABT  Abbott Laboratories  Health Care\n",
      "3   ABBV               AbbVie  Health Care\n",
      "4   ABMD              Abiomed  Health Care\n"
     ]
    },
    {
     "data": {
      "text/plain": [
       "(505, 3)"
      ]
     },
     "execution_count": 5,
     "metadata": {},
     "output_type": "execute_result"
    }
   ],
   "source": [
    "#Pandas Data Frame using date derived from an CSV File\n",
    "#Confirmation of the CSV read with a print out of the Data Frame head\n",
    "spcons = pd.read_csv('s_p_constituents.csv')\n",
    "print(spcons.head())\n",
    "spcons.shape"
   ]
  },
  {
   "cell_type": "code",
   "execution_count": 6,
   "id": "94a8b850",
   "metadata": {},
   "outputs": [
    {
     "name": "stdout",
     "output_type": "stream",
     "text": [
      "['Sheet1']\n"
     ]
    }
   ],
   "source": [
    "#Pandas Data Frame using date derived from an Excel Spreadsheet\n",
    "#Print to confirm the Sheet has been read correctly\n",
    "sp500 = pd.ExcelFile('S&P 500 Daily_Returns 2020.xlsx')\n",
    "print(sp500.sheet_names)"
   ]
  },
  {
   "cell_type": "code",
   "execution_count": 7,
   "id": "f7b4b38f",
   "metadata": {},
   "outputs": [],
   "source": [
    "#Import the data from Sheet1 Tab using parse\n",
    "sp500 = sp500.parse('Sheet1')"
   ]
  },
  {
   "cell_type": "code",
   "execution_count": 8,
   "id": "5992f258",
   "metadata": {},
   "outputs": [
    {
     "name": "stdout",
     "output_type": "stream",
     "text": [
      "<class 'pandas.core.frame.DataFrame'>\n",
      "RangeIndex: 253 entries, 0 to 252\n",
      "Data columns (total 7 columns):\n",
      " #   Column        Non-Null Count  Dtype         \n",
      "---  ------        --------------  -----         \n",
      " 0   Date          253 non-null    datetime64[ns]\n",
      " 1   Open_Index    253 non-null    float64       \n",
      " 2   High_Index    253 non-null    float64       \n",
      " 3   Low_Index     253 non-null    float64       \n",
      " 4   Close_Index   253 non-null    float64       \n",
      " 5   Adj Close     253 non-null    float64       \n",
      " 6   Volume_Index  253 non-null    int64         \n",
      "dtypes: datetime64[ns](1), float64(5), int64(1)\n",
      "memory usage: 14.0 KB\n",
      "        Date  Open_Index  High_Index  Low_Index  Close_Index  Adj Close  \\\n",
      "0 2020-01-02     3244.67     3258.14    3235.53      3257.85    3257.85   \n",
      "1 2020-01-03     3226.36     3246.15    3222.34      3234.85    3234.85   \n",
      "2 2020-01-06     3217.55     3246.84    3214.64      3246.28    3246.28   \n",
      "3 2020-01-07     3241.86     3244.91    3232.43      3237.18    3237.18   \n",
      "4 2020-01-08     3238.59     3267.07    3236.67      3253.05    3253.05   \n",
      "\n",
      "   Volume_Index  \n",
      "0    3458250000  \n",
      "1    3461290000  \n",
      "2    3674070000  \n",
      "3    3420380000  \n",
      "4    3720890000  \n"
     ]
    }
   ],
   "source": [
    "#Confirmation of the Excel read and a print out of the Data Frame head\n",
    "sp500.info()\n",
    "print(sp500.head())"
   ]
  },
  {
   "cell_type": "code",
   "execution_count": 9,
   "id": "dfbc10c8",
   "metadata": {},
   "outputs": [],
   "source": [
    "#Step to drop the Adjusted Close price from the Data Frame as it is not required in the analysis\n",
    "sp500.drop('Adj Close', axis = 1, inplace=True)"
   ]
  },
  {
   "cell_type": "code",
   "execution_count": 10,
   "id": "19c3c79a",
   "metadata": {},
   "outputs": [
    {
     "name": "stdout",
     "output_type": "stream",
     "text": [
      "        Date  Open_Index  High_Index  Low_Index  Close_Index  Volume_Index  \\\n",
      "0 2020-01-02     3244.67     3258.14    3235.53      3257.85    3458250000   \n",
      "1 2020-01-03     3226.36     3246.15    3222.34      3234.85    3461290000   \n",
      "2 2020-01-06     3217.55     3246.84    3214.64      3246.28    3674070000   \n",
      "3 2020-01-07     3241.86     3244.91    3232.43      3237.18    3420380000   \n",
      "4 2020-01-08     3238.59     3267.07    3236.67      3253.05    3720890000   \n",
      "\n",
      "   S&P 500 Movement  \n",
      "0               NaN  \n",
      "1         -0.705987  \n",
      "2          0.353339  \n",
      "3         -0.280321  \n",
      "4          0.490242  \n"
     ]
    }
   ],
   "source": [
    "#Calculation to enrich the dataset with the daily movement\n",
    "sp500['S&P 500 Movement'] = ((sp500['Close_Index'] / sp500['Close_Index'].shift(1))-1)*100\n",
    "print(sp500.head())"
   ]
  },
  {
   "cell_type": "code",
   "execution_count": 11,
   "id": "e3ba2f61",
   "metadata": {},
   "outputs": [
    {
     "name": "stdout",
     "output_type": "stream",
     "text": [
      "Enter Ticker 1 - MMM\n",
      "Enter Ticker 2 - NTRS\n"
     ]
    }
   ],
   "source": [
    "#Setting Variables that will feed into a Web Call to Yahoo Finance to pull the daily price details for the Year 2020\n",
    "#For the purposes of the exercise the user should enter Apple (AAPL) and Microsoft (MSFT) byt any S&P 500 ticker can be used\n",
    "ticker1 = input('Enter Ticker 1 - ') # Enter AAPL\n",
    "ticker2 = input('Enter Ticker 2 - ') # Enter MSFT\n",
    "period1 = int(time.mktime(datetime.datetime(2020, 1, 1, 23, 59).timetuple()))\n",
    "period2 = int(time.mktime(datetime.datetime(2020, 12, 31, 23, 59).timetuple()))\n",
    "interval = '1d' # Defaulted to 1 day in this code but other frequencies are possible using '1w' for Weekly and '1m' for monthly"
   ]
  },
  {
   "cell_type": "code",
   "execution_count": 12,
   "id": "53d38bf4",
   "metadata": {},
   "outputs": [],
   "source": [
    "# The variables set from the preceding steps are fed into the web address so that a dynamic read of the data is possible\n",
    "Stock1 = f'https://query1.finance.yahoo.com/v7/finance/download/{ticker1}?period1={period1}&period2={period2}&interval={interval}&events=history&includeAdjustedClose=true'"
   ]
  },
  {
   "cell_type": "code",
   "execution_count": 13,
   "id": "8e34fda4",
   "metadata": {},
   "outputs": [],
   "source": [
    "# The variables set from the preceding steps are fed into the web address so that a dynamic read of the data is possible\n",
    "Stock2 = f'https://query1.finance.yahoo.com/v7/finance/download/{ticker2}?period1={period1}&period2={period2}&interval={interval}&events=history&includeAdjustedClose=true'"
   ]
  },
  {
   "cell_type": "code",
   "execution_count": 14,
   "id": "5579fc66",
   "metadata": {},
   "outputs": [
    {
     "name": "stdout",
     "output_type": "stream",
     "text": [
      "        Date        Open        High         Low       Close   Adj Close  \\\n",
      "0 2020-01-02  177.679993  180.009995  177.139999  180.000000  170.862549   \n",
      "1 2020-01-03  177.020004  178.660004  175.630005  178.449997  169.391220   \n",
      "2 2020-01-06  177.149994  178.710007  176.350006  178.619995  169.552582   \n",
      "3 2020-01-07  178.279999  178.509995  176.820007  177.899994  168.869125   \n",
      "4 2020-01-08  178.000000  181.500000  177.649994  180.630005  171.460571   \n",
      "\n",
      "    Volume Symbol  \n",
      "0  3601700    MMM  \n",
      "1  2466900    MMM  \n",
      "2  1998000    MMM  \n",
      "3  2173000    MMM  \n",
      "4  2758300    MMM  \n",
      "<class 'pandas.core.frame.DataFrame'>\n",
      "RangeIndex: 253 entries, 0 to 252\n",
      "Data columns (total 8 columns):\n",
      " #   Column     Non-Null Count  Dtype         \n",
      "---  ------     --------------  -----         \n",
      " 0   Date       253 non-null    datetime64[ns]\n",
      " 1   Open       253 non-null    float64       \n",
      " 2   High       253 non-null    float64       \n",
      " 3   Low        253 non-null    float64       \n",
      " 4   Close      253 non-null    float64       \n",
      " 5   Adj Close  253 non-null    float64       \n",
      " 6   Volume     253 non-null    int64         \n",
      " 7   Symbol     253 non-null    object        \n",
      "dtypes: datetime64[ns](1), float64(5), int64(1), object(1)\n",
      "memory usage: 15.9+ KB\n"
     ]
    },
    {
     "data": {
      "text/plain": [
       "(253, 8)"
      ]
     },
     "execution_count": 14,
     "metadata": {},
     "output_type": "execute_result"
    }
   ],
   "source": [
    "#Pandas Data Frame using date derived from the Yahoo Finance Website\n",
    "#Confirmation of the Web read with a print out of the Data Frame head\n",
    "#Print out the Data Frame Info to verify the date type as this will be used in the merge operation to join the tables together\n",
    "Stockperiod1 = pd.read_csv(Stock1)\n",
    "Stockperiod1[\"Date\"] = pd.to_datetime(Stockperiod1[\"Date\"])\n",
    "Stockperiod1[\"Symbol\"] = ticker1\n",
    "print(Stockperiod1.head())\n",
    "Stockperiod1.info()\n",
    "Stockperiod1.shape"
   ]
  },
  {
   "cell_type": "code",
   "execution_count": 15,
   "id": "200229b9",
   "metadata": {},
   "outputs": [
    {
     "name": "stdout",
     "output_type": "stream",
     "text": [
      "        Date        Open        High         Low       Close   Adj Close  \\\n",
      "0 2020-01-02  177.679993  180.009995  177.139999  180.000000  170.862549   \n",
      "1 2020-01-03  177.020004  178.660004  175.630005  178.449997  169.391220   \n",
      "2 2020-01-06  177.149994  178.710007  176.350006  178.619995  169.552582   \n",
      "3 2020-01-07  178.279999  178.509995  176.820007  177.899994  168.869125   \n",
      "4 2020-01-08  178.000000  181.500000  177.649994  180.630005  171.460571   \n",
      "\n",
      "    Volume Symbol  MMM Movement  \n",
      "0  3601700    MMM           NaN  \n",
      "1  2466900    MMM     -0.861113  \n",
      "2  1998000    MMM      0.095264  \n",
      "3  2173000    MMM     -0.403091  \n",
      "4  2758300    MMM      1.534576  \n"
     ]
    }
   ],
   "source": [
    "#Calculation to enrich the dataset with the daily movement\n",
    "Stockperiod1['{} Movement'.format(ticker1)] = ((Stockperiod1['Close'.format(ticker1)] / Stockperiod1['Close'.format(ticker1)].shift(1))-1)*100\n",
    "print(Stockperiod1.head())"
   ]
  },
  {
   "cell_type": "code",
   "execution_count": 16,
   "id": "1bd5f9e9",
   "metadata": {},
   "outputs": [
    {
     "name": "stdout",
     "output_type": "stream",
     "text": [
      "        Date        Open        High         Low       Close   Adj Close  \\\n",
      "0 2020-01-02  177.679993  180.009995  177.139999  180.000000  170.862549   \n",
      "1 2020-01-03  177.020004  178.660004  175.630005  178.449997  169.391220   \n",
      "2 2020-01-06  177.149994  178.710007  176.350006  178.619995  169.552582   \n",
      "3 2020-01-07  178.279999  178.509995  176.820007  177.899994  168.869125   \n",
      "4 2020-01-08  178.000000  181.500000  177.649994  180.630005  171.460571   \n",
      "\n",
      "    Volume Symbol  MMM Movement Name       Sector    Weight  \n",
      "0  3601700    MMM           NaN   3M  Industrials  0.311953  \n",
      "1  2466900    MMM     -0.861113   3M  Industrials  0.311953  \n",
      "2  1998000    MMM      0.095264   3M  Industrials  0.311953  \n",
      "3  2173000    MMM     -0.403091   3M  Industrials  0.311953  \n",
      "4  2758300    MMM      1.534576   3M  Industrials  0.311953  \n"
     ]
    }
   ],
   "source": [
    "#Merging Data Frames to enrich the Web extract with a table of Index Constituent static data element including Name and Industry Sector\n",
    "Tickermerge1 = Stockperiod1.merge(spcons, on = 'Symbol', how = 'left', suffixes = ('_{}'.format(ticker1),'_Cons'))\\\n",
    ".merge(spwgt1, on = 'Symbol', how = 'left', suffixes = ('_{}'.format(ticker1),'_Wgt'))\n",
    "print(Tickermerge1.head())"
   ]
  },
  {
   "cell_type": "code",
   "execution_count": 17,
   "id": "6bc9050c",
   "metadata": {},
   "outputs": [
    {
     "name": "stdout",
     "output_type": "stream",
     "text": [
      "        Date        Open        High         Low       Close   Adj Close  \\\n",
      "0 2020-01-02  106.529999  107.629997  106.290001  107.580002  102.649200   \n",
      "1 2020-01-03  106.000000  106.480003  105.209999  105.370003  100.540497   \n",
      "2 2020-01-06  104.599998  105.300003  104.290001  105.239998  100.416435   \n",
      "3 2020-01-07  105.269997  106.400002  105.220001  105.820000  100.969856   \n",
      "4 2020-01-08  106.120003  106.959999  105.809998  106.790001  101.895409   \n",
      "\n",
      "    Volume Symbol  \n",
      "0   675700   NTRS  \n",
      "1   995900   NTRS  \n",
      "2   878100   NTRS  \n",
      "3   686200   NTRS  \n",
      "4  1099900   NTRS  \n",
      "<class 'pandas.core.frame.DataFrame'>\n",
      "RangeIndex: 253 entries, 0 to 252\n",
      "Data columns (total 8 columns):\n",
      " #   Column     Non-Null Count  Dtype         \n",
      "---  ------     --------------  -----         \n",
      " 0   Date       253 non-null    datetime64[ns]\n",
      " 1   Open       253 non-null    float64       \n",
      " 2   High       253 non-null    float64       \n",
      " 3   Low        253 non-null    float64       \n",
      " 4   Close      253 non-null    float64       \n",
      " 5   Adj Close  253 non-null    float64       \n",
      " 6   Volume     253 non-null    int64         \n",
      " 7   Symbol     253 non-null    object        \n",
      "dtypes: datetime64[ns](1), float64(5), int64(1), object(1)\n",
      "memory usage: 15.9+ KB\n"
     ]
    },
    {
     "data": {
      "text/plain": [
       "(253, 8)"
      ]
     },
     "execution_count": 17,
     "metadata": {},
     "output_type": "execute_result"
    }
   ],
   "source": [
    "#Pandas Data Frame using date derived from the Yahoo Finance Website\n",
    "#Confirmation of the Web read with a print out of the Data Frame head\n",
    "#Print out the Data Frame Info to verify the date type as this will be used in the merge operation to join the tables together\n",
    "Stockperiod2 = pd.read_csv(Stock2)\n",
    "Stockperiod2[\"Date\"] = pd.to_datetime(Stockperiod2[\"Date\"])\n",
    "Stockperiod2[\"Symbol\"] = ticker2\n",
    "print(Stockperiod2.head())\n",
    "Stockperiod2.info()\n",
    "Stockperiod2.shape"
   ]
  },
  {
   "cell_type": "code",
   "execution_count": 18,
   "id": "62f1379a",
   "metadata": {},
   "outputs": [
    {
     "name": "stdout",
     "output_type": "stream",
     "text": [
      "        Date        Open        High         Low       Close   Adj Close  \\\n",
      "0 2020-01-02  106.529999  107.629997  106.290001  107.580002  102.649200   \n",
      "1 2020-01-03  106.000000  106.480003  105.209999  105.370003  100.540497   \n",
      "2 2020-01-06  104.599998  105.300003  104.290001  105.239998  100.416435   \n",
      "3 2020-01-07  105.269997  106.400002  105.220001  105.820000  100.969856   \n",
      "4 2020-01-08  106.120003  106.959999  105.809998  106.790001  101.895409   \n",
      "\n",
      "    Volume Symbol  NTRS Movement  \n",
      "0   675700   NTRS            NaN  \n",
      "1   995900   NTRS      -2.054284  \n",
      "2   878100   NTRS      -0.123380  \n",
      "3   686200   NTRS       0.551123  \n",
      "4  1099900   NTRS       0.916652  \n"
     ]
    }
   ],
   "source": [
    "#Calculation to enrich the dataset with the daily movement\n",
    "Stockperiod2['{} Movement'.format(ticker2)] = ((Stockperiod2['Close'.format(ticker2)] / Stockperiod2['Close'.format(ticker2)].shift(1))-1)*100\n",
    "print(Stockperiod2.head())"
   ]
  },
  {
   "cell_type": "code",
   "execution_count": 19,
   "id": "7fa86b7b",
   "metadata": {},
   "outputs": [
    {
     "name": "stdout",
     "output_type": "stream",
     "text": [
      "        Date        Open        High         Low       Close   Adj Close  \\\n",
      "0 2020-01-02  106.529999  107.629997  106.290001  107.580002  102.649200   \n",
      "1 2020-01-03  106.000000  106.480003  105.209999  105.370003  100.540497   \n",
      "2 2020-01-06  104.599998  105.300003  104.290001  105.239998  100.416435   \n",
      "3 2020-01-07  105.269997  106.400002  105.220001  105.820000  100.969856   \n",
      "4 2020-01-08  106.120003  106.959999  105.809998  106.790001  101.895409   \n",
      "\n",
      "    Volume Symbol  NTRS Movement            Name      Sector    Weight  \n",
      "0   675700   NTRS            NaN  Northern Trust  Financials  0.065311  \n",
      "1   995900   NTRS      -2.054284  Northern Trust  Financials  0.065311  \n",
      "2   878100   NTRS      -0.123380  Northern Trust  Financials  0.065311  \n",
      "3   686200   NTRS       0.551123  Northern Trust  Financials  0.065311  \n",
      "4  1099900   NTRS       0.916652  Northern Trust  Financials  0.065311  \n"
     ]
    },
    {
     "data": {
      "text/plain": [
       "(253, 12)"
      ]
     },
     "execution_count": 19,
     "metadata": {},
     "output_type": "execute_result"
    }
   ],
   "source": [
    "#Merging Data Frames to enrich the Web extract with a table of Index Constituent static data element including Name and Industry Sector\n",
    "Tickermerge2 = Stockperiod2.merge(spcons, on = 'Symbol', how = 'left', suffixes = ('_{}'.format(ticker2),'_Cons'))\\\n",
    ".merge(spwgt1, on = 'Symbol', how = 'left', suffixes = ('_{}'.format(ticker2),'_Wgt'))\n",
    "print(Tickermerge2.head())\n",
    "Tickermerge2.shape"
   ]
  },
  {
   "cell_type": "code",
   "execution_count": 20,
   "id": "929c9a9f",
   "metadata": {},
   "outputs": [
    {
     "name": "stdout",
     "output_type": "stream",
     "text": [
      "          Date    Open_MMM    High_MMM     Low_MMM   Close_MMM  Adj Close_MMM  \\\n",
      "0   2020-01-02  177.679993  180.009995  177.139999  180.000000     170.862549   \n",
      "1   2020-01-03  177.020004  178.660004  175.630005  178.449997     169.391220   \n",
      "2   2020-01-06  177.149994  178.710007  176.350006  178.619995     169.552582   \n",
      "3   2020-01-07  178.279999  178.509995  176.820007  177.899994     168.869125   \n",
      "4   2020-01-08  178.000000  181.500000  177.649994  180.630005     171.460571   \n",
      "..         ...         ...         ...         ...         ...            ...   \n",
      "248 2020-12-24  174.419998  174.789993  173.419998  174.520004     171.829178   \n",
      "249 2020-12-28  175.309998  176.399994  174.389999  174.710007     172.016251   \n",
      "250 2020-12-29  175.550003  175.639999  173.149994  173.850006     171.169510   \n",
      "251 2020-12-30  173.880005  174.919998  173.380005  174.110001     171.425491   \n",
      "252 2020-12-31  174.119995  174.869995  173.179993  174.789993     172.095001   \n",
      "\n",
      "     Volume_MMM Symbol_MMM  MMM Movement Name_MMM  ... NTRS Movement  \\\n",
      "0       3601700        MMM           NaN       3M  ...           NaN   \n",
      "1       2466900        MMM     -0.861113       3M  ...     -2.054284   \n",
      "2       1998000        MMM      0.095264       3M  ...     -0.123380   \n",
      "3       2173000        MMM     -0.403091       3M  ...      0.551123   \n",
      "4       2758300        MMM      1.534576       3M  ...      0.916652   \n",
      "..          ...        ...           ...      ...  ...           ...   \n",
      "248      656200        MMM      0.304615       3M  ...     -0.434832   \n",
      "249     1403000        MMM      0.108872       3M  ...      0.971729   \n",
      "250     1218900        MMM     -0.492245       3M  ...     -0.616348   \n",
      "251     1419100        MMM      0.149551       3M  ...      0.010874   \n",
      "252     1841300        MMM      0.390553       3M  ...      1.327242   \n",
      "\n",
      "          Name_NTRS  Sector_NTRS  Weight_NTRS  Open_Index  High_Index  \\\n",
      "0    Northern Trust   Financials     0.065311     3244.67     3258.14   \n",
      "1    Northern Trust   Financials     0.065311     3226.36     3246.15   \n",
      "2    Northern Trust   Financials     0.065311     3217.55     3246.84   \n",
      "3    Northern Trust   Financials     0.065311     3241.86     3244.91   \n",
      "4    Northern Trust   Financials     0.065311     3238.59     3267.07   \n",
      "..              ...          ...          ...         ...         ...   \n",
      "248  Northern Trust   Financials     0.065311     3694.03     3703.82   \n",
      "249  Northern Trust   Financials     0.065311     3723.03     3740.51   \n",
      "250  Northern Trust   Financials     0.065311     3750.01     3756.12   \n",
      "251  Northern Trust   Financials     0.065311     3736.19     3744.63   \n",
      "252  Northern Trust   Financials     0.065311     3733.27     3760.20   \n",
      "\n",
      "     Low_Index  Close_Index Volume_Index  S&P 500 Movement  \n",
      "0      3235.53      3257.85   3458250000               NaN  \n",
      "1      3222.34      3234.85   3461290000         -0.705987  \n",
      "2      3214.64      3246.28   3674070000          0.353339  \n",
      "3      3232.43      3237.18   3420380000         -0.280321  \n",
      "4      3236.67      3253.05   3720890000          0.490242  \n",
      "..         ...          ...          ...               ...  \n",
      "248    3689.32      3703.06   1885090000          0.353658  \n",
      "249    3723.03      3735.36   3527460000          0.872252  \n",
      "250    3723.31      3727.04   3387030000         -0.222736  \n",
      "251    3730.21      3732.04   3145200000          0.134155  \n",
      "252    3726.88      3756.07   3172510000          0.643884  \n",
      "\n",
      "[253 rows x 29 columns]\n"
     ]
    },
    {
     "data": {
      "text/plain": [
       "(253, 29)"
      ]
     },
     "execution_count": 20,
     "metadata": {},
     "output_type": "execute_result"
    }
   ],
   "source": [
    "spmerge1 = Tickermerge1.merge(Tickermerge2, on = 'Date', how = 'left', suffixes = ('_{}'.format(ticker1),'_{}'.format(ticker2)))\\\n",
    ".merge(sp500, on = 'Date', how = 'left', suffixes = ('_{}'.format(ticker1),'_Index'))\n",
    "print(spmerge1)\n",
    "spmerge1.shape"
   ]
  },
  {
   "cell_type": "code",
   "execution_count": 24,
   "id": "1f30efa2",
   "metadata": {},
   "outputs": [
    {
     "name": "stdout",
     "output_type": "stream",
     "text": [
      "The number of days trading is 253\n",
      "The Average Price for the year is 159.73\n"
     ]
    }
   ],
   "source": [
    "#Simple Calcs using a for loop\n",
    "total = 0\n",
    "count = 0\n",
    "Average = 0\n",
    "maxval = 0\n",
    "for tick1 in spmerge1[\"Close_{}\".format(ticker1)]:\n",
    "    total = np.round(total + tick1 ,2)\n",
    "    count = count + 1\n",
    "    average = np.round(total/count, 2)\n",
    "print(\"The number of days trading is \" +str(count))\n",
    "print(\"The Average Price for the year is \" + str(average))"
   ]
  },
  {
   "cell_type": "code",
   "execution_count": 28,
   "id": "8a38013f",
   "metadata": {},
   "outputs": [
    {
     "name": "stdout",
     "output_type": "stream",
     "text": [
      "        Date    Open_MMM    High_MMM     Low_MMM   Close_MMM  Adj Close_MMM  \\\n",
      "0 2020-01-02  177.679993  180.009995  177.139999  180.000000     170.862549   \n",
      "1 2020-01-03  177.020004  178.660004  175.630005  178.449997     169.391220   \n",
      "2 2020-01-06  177.149994  178.710007  176.350006  178.619995     169.552582   \n",
      "3 2020-01-07  178.279999  178.509995  176.820007  177.899994     168.869125   \n",
      "4 2020-01-08  178.000000  181.500000  177.649994  180.630005     171.460571   \n",
      "\n",
      "   Volume_MMM Symbol_MMM  MMM Movement Name_MMM  ...       Name_NTRS  \\\n",
      "0     3601700        MMM           NaN       3M  ...  Northern Trust   \n",
      "1     2466900        MMM     -0.861113       3M  ...  Northern Trust   \n",
      "2     1998000        MMM      0.095264       3M  ...  Northern Trust   \n",
      "3     2173000        MMM     -0.403091       3M  ...  Northern Trust   \n",
      "4     2758300        MMM      1.534576       3M  ...  Northern Trust   \n",
      "\n",
      "   Sector_NTRS  Weight_NTRS  Open_Index  High_Index  Low_Index  Close_Index  \\\n",
      "0   Financials     0.065311     3244.67     3258.14    3235.53      3257.85   \n",
      "1   Financials     0.065311     3226.36     3246.15    3222.34      3234.85   \n",
      "2   Financials     0.065311     3217.55     3246.84    3214.64      3246.28   \n",
      "3   Financials     0.065311     3241.86     3244.91    3232.43      3237.18   \n",
      "4   Financials     0.065311     3238.59     3267.07    3236.67      3253.05   \n",
      "\n",
      "   Volume_Index S&P 500 Movement                Company Movenents  \n",
      "0    3458250000              NaN            More Testing Required  \n",
      "1    3461290000        -0.705987                    Both Negative  \n",
      "2    3674070000         0.353339  Company A positive to Company B  \n",
      "3    3420380000        -0.280321  Company A Negative to Company B  \n",
      "4    3720890000         0.490242                    Both Positive  \n",
      "\n",
      "[5 rows x 30 columns]\n"
     ]
    }
   ],
   "source": [
    "#Adding a Column and if condition to compare the Primary Company daily movement to that of the Comparison Company\n",
    "for ind, row in spmerge1.iterrows():\n",
    "    if row['{} Movement'.format(ticker1)] < 0 and row['{} Movement'.format(ticker2)] < 0:\n",
    "        spmerge1.loc[ind, \"Company Movenents\"] = \"Both Negative\"\n",
    "    elif row['{} Movement'.format(ticker1)] > 0 and row['{} Movement'.format(ticker2)] > 0:\n",
    "        spmerge1.loc[ind, \"Company Movenents\"] = \"Both Positive\"\n",
    "    elif row['{} Movement'.format(ticker1)] > 0 and row['{} Movement'.format(ticker2)] < 0:\n",
    "        spmerge1.loc[ind, \"Company Movenents\"] = \"Company A positive to Company B\"\n",
    "    elif row['{} Movement'.format(ticker1)] < 0 and row['{} Movement'.format(ticker2)] > 0:\n",
    "        spmerge1.loc[ind, \"Company Movenents\"] = \"Company A Negative to Company B\"\n",
    "    else:\n",
    "        spmerge1.loc[ind, \"Company Movenents\"] = \"More Testing Required\"\n",
    "\n",
    "    \n",
    "print(spmerge1.head())"
   ]
  },
  {
   "cell_type": "code",
   "execution_count": 29,
   "id": "9799a221",
   "metadata": {},
   "outputs": [
    {
     "name": "stdout",
     "output_type": "stream",
     "text": [
      "        Date    Open_MMM    High_MMM     Low_MMM   Close_MMM  Adj Close_MMM  \\\n",
      "0 2020-01-02  177.679993  180.009995  177.139999  180.000000     170.862549   \n",
      "1 2020-01-03  177.020004  178.660004  175.630005  178.449997     169.391220   \n",
      "2 2020-01-06  177.149994  178.710007  176.350006  178.619995     169.552582   \n",
      "3 2020-01-07  178.279999  178.509995  176.820007  177.899994     168.869125   \n",
      "4 2020-01-08  178.000000  181.500000  177.649994  180.630005     171.460571   \n",
      "\n",
      "   Volume_MMM Symbol_MMM  MMM Movement Name_MMM  ... Sector_NTRS  Weight_NTRS  \\\n",
      "0     3601700        MMM           NaN       3M  ...  Financials     0.065311   \n",
      "1     2466900        MMM     -0.861113       3M  ...  Financials     0.065311   \n",
      "2     1998000        MMM      0.095264       3M  ...  Financials     0.065311   \n",
      "3     2173000        MMM     -0.403091       3M  ...  Financials     0.065311   \n",
      "4     2758300        MMM      1.534576       3M  ...  Financials     0.065311   \n",
      "\n",
      "   Open_Index  High_Index  Low_Index  Close_Index  Volume_Index  \\\n",
      "0     3244.67     3258.14    3235.53      3257.85    3458250000   \n",
      "1     3226.36     3246.15    3222.34      3234.85    3461290000   \n",
      "2     3217.55     3246.84    3214.64      3246.28    3674070000   \n",
      "3     3241.86     3244.91    3232.43      3237.18    3420380000   \n",
      "4     3238.59     3267.07    3236.67      3253.05    3720890000   \n",
      "\n",
      "   S&P 500 Movement                Company Movenents         Index Movenent  \n",
      "0               NaN            More Testing Required  More Testing Required  \n",
      "1         -0.705987                    Both Negative          Both Negative  \n",
      "2          0.353339  Company A positive to Company B          Both Positive  \n",
      "3         -0.280321  Company A Negative to Company B          Both Negative  \n",
      "4          0.490242                    Both Positive          Both Positive  \n",
      "\n",
      "[5 rows x 31 columns]\n"
     ]
    }
   ],
   "source": [
    "#Adding a Column and if condition to compare the Primary Company daily movement to that of the Index\n",
    "for ind, row in spmerge1.iterrows():\n",
    "    if row['{} Movement'.format(ticker1)] < 0 and row['S&P 500 Movement'] < 0:\n",
    "        spmerge1.loc[ind, \"Index Movenent\"] = \"Both Negative\"\n",
    "    elif row['{} Movement'.format(ticker1)] > 0 and row['S&P 500 Movement'] > 0:\n",
    "        spmerge1.loc[ind, \"Index Movenent\"] = \"Both Positive\"\n",
    "    elif row['{} Movement'.format(ticker1)] > 0 and row['S&P 500 Movement'] < 0:\n",
    "        spmerge1.loc[ind, \"Index Movenent\"] = \"Company A positive to Company B\"\n",
    "    elif row['{} Movement'.format(ticker1)] < 0 and row['S&P 500 Movement'] > 0:\n",
    "        spmerge1.loc[ind, \"Index Movenent\"] = \"Company A Negative to Company B\"\n",
    "    else:\n",
    "        spmerge1.loc[ind, \"Index Movenent\"] = \"More Testing Required\"\n",
    "\n",
    "    \n",
    "print(spmerge1.head())"
   ]
  },
  {
   "cell_type": "code",
   "execution_count": null,
   "id": "ec6560ef",
   "metadata": {},
   "outputs": [],
   "source": []
  }
 ],
 "metadata": {
  "kernelspec": {
   "display_name": "Python 3",
   "language": "python",
   "name": "python3"
  },
  "language_info": {
   "codemirror_mode": {
    "name": "ipython",
    "version": 3
   },
   "file_extension": ".py",
   "mimetype": "text/x-python",
   "name": "python",
   "nbconvert_exporter": "python",
   "pygments_lexer": "ipython3",
   "version": "3.8.8"
  }
 },
 "nbformat": 4,
 "nbformat_minor": 5
}
