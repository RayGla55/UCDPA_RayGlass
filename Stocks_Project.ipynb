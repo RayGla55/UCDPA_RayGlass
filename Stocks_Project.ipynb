{
 "cells": [
  {
   "cell_type": "code",
   "execution_count": 3,
   "id": "21f66606",
   "metadata": {},
   "outputs": [],
   "source": [
    "#Import Packages used in the following analysis\n",
    "import pandas as pd\n",
    "import numpy as np\n",
    "import seaborn as sns\n",
    "import matplotlib.pyplot as plt\n",
    "import time\n",
    "import datetime"
   ]
  },
  {
   "cell_type": "code",
   "execution_count": 4,
   "id": "35f4cc5b",
   "metadata": {},
   "outputs": [
    {
     "name": "stdout",
     "output_type": "stream",
     "text": [
      "['Index Weightings']\n"
     ]
    }
   ],
   "source": [
    "#Pandas Data Frame using date derived from an Excel Spreadsheet\n",
    "#Print to confirm the Sheet has been read correctly\n",
    "spwgt = pd.ExcelFile('SP_Weightings1.xlsx')\n",
    "print(spwgt.sheet_names)"
   ]
  },
  {
   "cell_type": "code",
   "execution_count": 5,
   "id": "0b074ab3",
   "metadata": {},
   "outputs": [],
   "source": [
    "#Import the data from Index Weightings Tab (Index 0) using parse\n",
    "spwgt1 = spwgt.parse(0)"
   ]
  },
  {
   "cell_type": "code",
   "execution_count": 6,
   "id": "bbba0f4d",
   "metadata": {},
   "outputs": [
    {
     "name": "stdout",
     "output_type": "stream",
     "text": [
      "<class 'pandas.core.frame.DataFrame'>\n",
      "RangeIndex: 505 entries, 0 to 504\n",
      "Data columns (total 2 columns):\n",
      " #   Column  Non-Null Count  Dtype  \n",
      "---  ------  --------------  -----  \n",
      " 0   Symbol  505 non-null    object \n",
      " 1   Weight  505 non-null    float64\n",
      "dtypes: float64(1), object(1)\n",
      "memory usage: 8.0+ KB\n",
      "  Symbol    Weight\n",
      "0   AAPL  6.115734\n",
      "1   MSFT  5.635407\n",
      "2   AMZN  4.301124\n",
      "3     FB  2.283107\n",
      "4  GOOGL  2.060597\n"
     ]
    }
   ],
   "source": [
    "#Confirmation of the Excel read and a print out of the Data Frame head\n",
    "spwgt1.info()\n",
    "print(spwgt1.head())"
   ]
  },
  {
   "cell_type": "code",
   "execution_count": 8,
   "id": "210441b0",
   "metadata": {},
   "outputs": [
    {
     "name": "stdout",
     "output_type": "stream",
     "text": [
      "  Symbol                 Name       Sector\n",
      "0    MMM                   3M  Industrials\n",
      "1    AOS          A. O. Smith  Industrials\n",
      "2    ABT  Abbott Laboratories  Health Care\n",
      "3   ABBV               AbbVie  Health Care\n",
      "4   ABMD              Abiomed  Health Care\n"
     ]
    }
   ],
   "source": [
    "#Pandas Data Frame using date derived from an Excel Spreadsheet\n",
    "#Confirmation of the CSV read with a print out of the Data Frame head\n",
    "spcons = pd.read_csv('s_p_constituents.csv')\n",
    "print(spcons.head())"
   ]
  },
  {
   "cell_type": "code",
   "execution_count": 11,
   "id": "e3ba2f61",
   "metadata": {},
   "outputs": [
    {
     "name": "stdout",
     "output_type": "stream",
     "text": [
      "Enter Ticker 1 - AAPL\n",
      "Enter Ticker 2 - MSFT\n"
     ]
    }
   ],
   "source": [
    "#Setting Variables that will feed into a Web Call to Yahoo Finance to pull the daily price details for the Year 2020\n",
    "#For the purposes of the exercise the user should enter Apple (AAPL) and Microsoft (MSFT) byt any S&P 500 ticker can be used\n",
    "ticker1 = input('Enter Ticker 1 - ') # Enter AAPL\n",
    "ticker2 = input('Enter Ticker 2 - ') # Enter MSFT\n",
    "period1 = int(time.mktime(datetime.datetime(2020, 1, 1, 23, 59).timetuple()))\n",
    "period2 = int(time.mktime(datetime.datetime(2020, 12, 31, 23, 59).timetuple()))\n",
    "interval = '1d' # Defaulted to 1 day in this code but other frequencies are possible using '1w' for Weekly and '1m' for monthly"
   ]
  },
  {
   "cell_type": "code",
   "execution_count": 12,
   "id": "5790ce99",
   "metadata": {},
   "outputs": [],
   "source": [
    "# The variables set from the preceding steps are fed into the web address so that a dynamic read of the data is possible\n",
    "Stock1 = f'https://query1.finance.yahoo.com/v7/finance/download/{ticker1}?period1={period1}&period2={period2}&interval={interval}&events=history&includeAdjustedClose=true'"
   ]
  },
  {
   "cell_type": "code",
   "execution_count": 13,
   "id": "88e54aa8",
   "metadata": {},
   "outputs": [],
   "source": [
    "# The variables set from the preceding steps are fed into the web address so that a dynamic read of the data is possible\n",
    "Stock2 = f'https://query1.finance.yahoo.com/v7/finance/download/{ticker2}?period1={period1}&period2={period2}&interval={interval}&events=history&includeAdjustedClose=true'"
   ]
  },
  {
   "cell_type": "code",
   "execution_count": 14,
   "id": "6806f78b",
   "metadata": {},
   "outputs": [
    {
     "name": "stdout",
     "output_type": "stream",
     "text": [
      "         Date       Open       High        Low      Close  Adj Close  \\\n",
      "0  2020-01-02  74.059998  75.150002  73.797501  75.087502  74.207466   \n",
      "1  2020-01-03  74.287498  75.144997  74.125000  74.357498  73.486023   \n",
      "2  2020-01-06  73.447502  74.989998  73.187500  74.949997  74.071579   \n",
      "3  2020-01-07  74.959999  75.224998  74.370003  74.597504  73.723213   \n",
      "4  2020-01-08  74.290001  76.110001  74.290001  75.797501  74.909149   \n",
      "\n",
      "      Volume  \n",
      "0  135480400  \n",
      "1  146322800  \n",
      "2  118387200  \n",
      "3  108872000  \n",
      "4  132079200  \n"
     ]
    }
   ],
   "source": [
    "#Pandas Data Frame using date derived from the Yahoo Finance Website\n",
    "#Confirmation of the Web read with a print out of the Data Frame head\n",
    "Stockperiod1 = pd.read_csv(Stock1)\n",
    "print(Stockperiod1.head())"
   ]
  },
  {
   "cell_type": "code",
   "execution_count": 15,
   "id": "f1b89ca2",
   "metadata": {},
   "outputs": [
    {
     "name": "stdout",
     "output_type": "stream",
     "text": [
      "         Date        Open        High         Low       Close   Adj Close  \\\n",
      "0  2020-01-02  158.779999  160.729996  158.330002  160.619995  158.205765   \n",
      "1  2020-01-03  158.320007  159.949997  158.059998  158.619995  156.235825   \n",
      "2  2020-01-06  157.080002  159.100006  156.509995  159.029999  156.639694   \n",
      "3  2020-01-07  159.320007  159.669998  157.320007  157.580002  155.211456   \n",
      "4  2020-01-08  158.929993  160.800003  157.949997  160.089996  157.683731   \n",
      "\n",
      "     Volume  \n",
      "0  22622100  \n",
      "1  21116200  \n",
      "2  20813700  \n",
      "3  21634100  \n",
      "4  27746500  \n"
     ]
    }
   ],
   "source": [
    "#Pandas Data Frame using date derived from the Yahoo Finance Website\n",
    "#Confirmation of the Web read with a print out of the Data Frame head\n",
    "Stockperiod2 = pd.read_csv(Stock2)\n",
    "print(Stockperiod2.head())"
   ]
  },
  {
   "cell_type": "code",
   "execution_count": null,
   "id": "7a25066e",
   "metadata": {},
   "outputs": [],
   "source": []
  }
 ],
 "metadata": {
  "kernelspec": {
   "display_name": "Python 3",
   "language": "python",
   "name": "python3"
  },
  "language_info": {
   "codemirror_mode": {
    "name": "ipython",
    "version": 3
   },
   "file_extension": ".py",
   "mimetype": "text/x-python",
   "name": "python",
   "nbconvert_exporter": "python",
   "pygments_lexer": "ipython3",
   "version": "3.8.8"
  }
 },
 "nbformat": 4,
 "nbformat_minor": 5
}
