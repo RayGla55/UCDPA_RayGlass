{
 "cells": [
  {
   "cell_type": "code",
   "execution_count": 1,
   "id": "21f66606",
   "metadata": {},
   "outputs": [],
   "source": [
    "#Import Packages used in the following analysis\n",
    "import pandas as pd\n",
    "import numpy as np\n",
    "import seaborn as sns\n",
    "import matplotlib.pyplot as plt\n",
    "import time\n",
    "import datetime"
   ]
  },
  {
   "cell_type": "code",
   "execution_count": 2,
   "id": "35f4cc5b",
   "metadata": {},
   "outputs": [
    {
     "name": "stdout",
     "output_type": "stream",
     "text": [
      "['Index Weightings']\n"
     ]
    }
   ],
   "source": [
    "#Pandas Data Frame using date derived from an Excel Spreadsheet\n",
    "#Print to confirm the Sheet has been read correctly\n",
    "spwgt = pd.ExcelFile('SP_Weightings1.xlsx')\n",
    "print(spwgt.sheet_names)"
   ]
  },
  {
   "cell_type": "code",
   "execution_count": 3,
   "id": "0b074ab3",
   "metadata": {},
   "outputs": [],
   "source": [
    "#Import the data from Index Weightings Tab (Index 0) using parse\n",
    "spwgt1 = spwgt.parse(0)"
   ]
  },
  {
   "cell_type": "code",
   "execution_count": 4,
   "id": "bbba0f4d",
   "metadata": {},
   "outputs": [
    {
     "name": "stdout",
     "output_type": "stream",
     "text": [
      "<class 'pandas.core.frame.DataFrame'>\n",
      "RangeIndex: 505 entries, 0 to 504\n",
      "Data columns (total 2 columns):\n",
      " #   Column  Non-Null Count  Dtype  \n",
      "---  ------  --------------  -----  \n",
      " 0   Symbol  505 non-null    object \n",
      " 1   Weight  505 non-null    float64\n",
      "dtypes: float64(1), object(1)\n",
      "memory usage: 8.0+ KB\n",
      "  Symbol    Weight\n",
      "0   AAPL  6.115734\n",
      "1   MSFT  5.635407\n",
      "2   AMZN  4.301124\n",
      "3     FB  2.283107\n",
      "4  GOOGL  2.060597\n"
     ]
    }
   ],
   "source": [
    "#Confirmation of the Excel read and a print out of the Data Frame head\n",
    "spwgt1.info()\n",
    "print(spwgt1.head())"
   ]
  },
  {
   "cell_type": "code",
   "execution_count": 5,
   "id": "210441b0",
   "metadata": {},
   "outputs": [
    {
     "name": "stdout",
     "output_type": "stream",
     "text": [
      "  Symbol                 Name       Sector\n",
      "0    MMM                   3M  Industrials\n",
      "1    AOS          A. O. Smith  Industrials\n",
      "2    ABT  Abbott Laboratories  Health Care\n",
      "3   ABBV               AbbVie  Health Care\n",
      "4   ABMD              Abiomed  Health Care\n"
     ]
    },
    {
     "data": {
      "text/plain": [
       "(505, 3)"
      ]
     },
     "execution_count": 5,
     "metadata": {},
     "output_type": "execute_result"
    }
   ],
   "source": [
    "#Pandas Data Frame using date derived from an CSV File\n",
    "#Confirmation of the CSV read with a print out of the Data Frame head\n",
    "spcons = pd.read_csv('s_p_constituents.csv')\n",
    "print(spcons.head())\n",
    "spcons.shape"
   ]
  },
  {
   "cell_type": "code",
   "execution_count": 6,
   "id": "94a8b850",
   "metadata": {},
   "outputs": [
    {
     "name": "stdout",
     "output_type": "stream",
     "text": [
      "['Index Levels']\n"
     ]
    }
   ],
   "source": [
    "#Pandas Data Frame using date derived from an Excel Spreadsheet\n",
    "#Print to confirm the Sheet has been read correctly\n",
    "sp500 = pd.ExcelFile('S&P_500_Daily_Returns_2020.xlsx')\n",
    "print(sp500.sheet_names)"
   ]
  },
  {
   "cell_type": "code",
   "execution_count": 7,
   "id": "f7b4b38f",
   "metadata": {},
   "outputs": [],
   "source": [
    "#Import the data from Sheet1 Tab using parse\n",
    "sp500 = sp500.parse('Index Levels')"
   ]
  },
  {
   "cell_type": "code",
   "execution_count": 8,
   "id": "5992f258",
   "metadata": {},
   "outputs": [
    {
     "name": "stdout",
     "output_type": "stream",
     "text": [
      "<class 'pandas.core.frame.DataFrame'>\n",
      "RangeIndex: 253 entries, 0 to 252\n",
      "Data columns (total 7 columns):\n",
      " #   Column        Non-Null Count  Dtype         \n",
      "---  ------        --------------  -----         \n",
      " 0   Date          253 non-null    datetime64[ns]\n",
      " 1   Open_Index    253 non-null    float64       \n",
      " 2   High_Index    253 non-null    float64       \n",
      " 3   Low_Index     253 non-null    float64       \n",
      " 4   Close_Index   253 non-null    float64       \n",
      " 5   Adj Close     253 non-null    float64       \n",
      " 6   Volume_Index  253 non-null    int64         \n",
      "dtypes: datetime64[ns](1), float64(5), int64(1)\n",
      "memory usage: 14.0 KB\n",
      "        Date  Open_Index  High_Index  Low_Index  Close_Index  Adj Close  \\\n",
      "0 2020-01-02     3244.67     3258.14    3235.53      3257.85    3257.85   \n",
      "1 2020-01-03     3226.36     3246.15    3222.34      3234.85    3234.85   \n",
      "2 2020-01-06     3217.55     3246.84    3214.64      3246.28    3246.28   \n",
      "3 2020-01-07     3241.86     3244.91    3232.43      3237.18    3237.18   \n",
      "4 2020-01-08     3238.59     3267.07    3236.67      3253.05    3253.05   \n",
      "\n",
      "   Volume_Index  \n",
      "0    3458250000  \n",
      "1    3461290000  \n",
      "2    3674070000  \n",
      "3    3420380000  \n",
      "4    3720890000  \n"
     ]
    }
   ],
   "source": [
    "#Confirmation of the Excel read and a print out of the Data Frame head\n",
    "sp500.info()\n",
    "print(sp500.head())"
   ]
  },
  {
   "cell_type": "code",
   "execution_count": 9,
   "id": "dfbc10c8",
   "metadata": {},
   "outputs": [],
   "source": [
    "#Step to drop the Adjusted Close price from the Data Frame as it is not required in the analysis\n",
    "sp500.drop('Adj Close', axis = 1, inplace=True)"
   ]
  },
  {
   "cell_type": "code",
   "execution_count": 10,
   "id": "89993100",
   "metadata": {},
   "outputs": [
    {
     "name": "stdout",
     "output_type": "stream",
     "text": [
      "        Date  Open_Index  High_Index  Low_Index  Close_Index  Volume_Index  \\\n",
      "0 2020-01-02     3244.67     3258.14    3235.53      3257.85    3458250000   \n",
      "1 2020-01-03     3226.36     3246.15    3222.34      3234.85    3461290000   \n",
      "2 2020-01-06     3217.55     3246.84    3214.64      3246.28    3674070000   \n",
      "3 2020-01-07     3241.86     3244.91    3232.43      3237.18    3420380000   \n",
      "4 2020-01-08     3238.59     3267.07    3236.67      3253.05    3720890000   \n",
      "\n",
      "   S&P 500 Movement  \n",
      "0               NaN  \n",
      "1         -0.705987  \n",
      "2          0.353339  \n",
      "3         -0.280321  \n",
      "4          0.490242  \n"
     ]
    }
   ],
   "source": [
    "#Calculation to enrich the dataset with the daily movement\n",
    "sp500['S&P 500 Movement'] = ((sp500['Close_Index'] / sp500['Close_Index'].shift(1))-1)*100\n",
    "print(sp500.head())"
   ]
  },
  {
   "cell_type": "code",
   "execution_count": 11,
   "id": "e3ba2f61",
   "metadata": {},
   "outputs": [
    {
     "name": "stdout",
     "output_type": "stream",
     "text": [
      "Enter Ticker 1 - AAPL\n",
      "Enter Ticker 2 - MSFT\n"
     ]
    }
   ],
   "source": [
    "#Setting Variables that will feed into a Web Call to Yahoo Finance to pull the daily price details for the Year 2020\n",
    "#For the purposes of the exercise the user should enter Apple (AAPL) and Microsoft (MSFT) byt any S&P 500 ticker can be used\n",
    "ticker1 = input('Enter Ticker 1 - ') # Enter AAPL\n",
    "ticker2 = input('Enter Ticker 2 - ') # Enter MSFT\n",
    "period1 = int(time.mktime(datetime.datetime(2020, 1, 1, 23, 59).timetuple()))\n",
    "period2 = int(time.mktime(datetime.datetime(2020, 12, 31, 23, 59).timetuple()))\n",
    "interval = '1d' # Defaulted to 1 day in this code but other frequencies are possible using '1w' for Weekly and '1m' for monthly"
   ]
  },
  {
   "cell_type": "code",
   "execution_count": 12,
   "id": "53d38bf4",
   "metadata": {},
   "outputs": [],
   "source": [
    "# The variables set from the preceding steps are fed into the web address so that a dynamic read of the data is possible\n",
    "Stock1 = f'https://query1.finance.yahoo.com/v7/finance/download/{ticker1}?period1={period1}&period2={period2}&interval={interval}&events=history&includeAdjustedClose=true'"
   ]
  },
  {
   "cell_type": "code",
   "execution_count": 13,
   "id": "8e34fda4",
   "metadata": {},
   "outputs": [],
   "source": [
    "# The variables set from the preceding steps are fed into the web address so that a dynamic read of the data is possible\n",
    "Stock2 = f'https://query1.finance.yahoo.com/v7/finance/download/{ticker2}?period1={period1}&period2={period2}&interval={interval}&events=history&includeAdjustedClose=true'"
   ]
  },
  {
   "cell_type": "code",
   "execution_count": 14,
   "id": "5579fc66",
   "metadata": {},
   "outputs": [
    {
     "name": "stdout",
     "output_type": "stream",
     "text": [
      "        Date       Open       High        Low      Close  Adj Close  \\\n",
      "0 2020-01-02  74.059998  75.150002  73.797501  75.087502  74.207466   \n",
      "1 2020-01-03  74.287498  75.144997  74.125000  74.357498  73.486023   \n",
      "2 2020-01-06  73.447502  74.989998  73.187500  74.949997  74.071579   \n",
      "3 2020-01-07  74.959999  75.224998  74.370003  74.597504  73.723213   \n",
      "4 2020-01-08  74.290001  76.110001  74.290001  75.797501  74.909149   \n",
      "\n",
      "      Volume Symbol  \n",
      "0  135480400   AAPL  \n",
      "1  146322800   AAPL  \n",
      "2  118387200   AAPL  \n",
      "3  108872000   AAPL  \n",
      "4  132079200   AAPL  \n",
      "<class 'pandas.core.frame.DataFrame'>\n",
      "RangeIndex: 253 entries, 0 to 252\n",
      "Data columns (total 8 columns):\n",
      " #   Column     Non-Null Count  Dtype         \n",
      "---  ------     --------------  -----         \n",
      " 0   Date       253 non-null    datetime64[ns]\n",
      " 1   Open       253 non-null    float64       \n",
      " 2   High       253 non-null    float64       \n",
      " 3   Low        253 non-null    float64       \n",
      " 4   Close      253 non-null    float64       \n",
      " 5   Adj Close  253 non-null    float64       \n",
      " 6   Volume     253 non-null    int64         \n",
      " 7   Symbol     253 non-null    object        \n",
      "dtypes: datetime64[ns](1), float64(5), int64(1), object(1)\n",
      "memory usage: 15.9+ KB\n"
     ]
    },
    {
     "data": {
      "text/plain": [
       "(253, 8)"
      ]
     },
     "execution_count": 14,
     "metadata": {},
     "output_type": "execute_result"
    }
   ],
   "source": [
    "#Pandas Data Frame using date derived from the Yahoo Finance Website\n",
    "#Confirmation of the Web read with a print out of the Data Frame head\n",
    "#Print out the Data Frame Info to verify the date type as this will be used in the merge operation to join the tables together\n",
    "Stockperiod1 = pd.read_csv(Stock1)\n",
    "Stockperiod1[\"Date\"] = pd.to_datetime(Stockperiod1[\"Date\"])\n",
    "Stockperiod1[\"Symbol\"] = ticker1\n",
    "print(Stockperiod1.head())\n",
    "Stockperiod1.info()\n",
    "Stockperiod1.shape"
   ]
  },
  {
   "cell_type": "code",
   "execution_count": 15,
   "id": "865a6244",
   "metadata": {},
   "outputs": [
    {
     "name": "stdout",
     "output_type": "stream",
     "text": [
      "        Date       Open       High        Low      Close  Adj Close  \\\n",
      "0 2020-01-02  74.059998  75.150002  73.797501  75.087502  74.207466   \n",
      "1 2020-01-03  74.287498  75.144997  74.125000  74.357498  73.486023   \n",
      "2 2020-01-06  73.447502  74.989998  73.187500  74.949997  74.071579   \n",
      "3 2020-01-07  74.959999  75.224998  74.370003  74.597504  73.723213   \n",
      "4 2020-01-08  74.290001  76.110001  74.290001  75.797501  74.909149   \n",
      "\n",
      "      Volume Symbol  AAPL Movement  \n",
      "0  135480400   AAPL            NaN  \n",
      "1  146322800   AAPL      -0.972204  \n",
      "2  118387200   AAPL       0.796825  \n",
      "3  108872000   AAPL      -0.470304  \n",
      "4  132079200   AAPL       1.608629  \n"
     ]
    }
   ],
   "source": [
    "#Calculation to enrich the dataset with the daily movement\n",
    "Stockperiod1['{} Movement'.format(ticker1)] = ((Stockperiod1['Close'.format(ticker1)] / Stockperiod1['Close'.format(ticker1)].shift(1))-1)*100\n",
    "print(Stockperiod1.head())"
   ]
  },
  {
   "cell_type": "code",
   "execution_count": 16,
   "id": "5a58fafd",
   "metadata": {},
   "outputs": [
    {
     "name": "stdout",
     "output_type": "stream",
     "text": [
      "        Date       Open       High        Low      Close  Adj Close  \\\n",
      "0 2020-01-02  74.059998  75.150002  73.797501  75.087502  74.207466   \n",
      "1 2020-01-03  74.287498  75.144997  74.125000  74.357498  73.486023   \n",
      "2 2020-01-06  73.447502  74.989998  73.187500  74.949997  74.071579   \n",
      "3 2020-01-07  74.959999  75.224998  74.370003  74.597504  73.723213   \n",
      "4 2020-01-08  74.290001  76.110001  74.290001  75.797501  74.909149   \n",
      "\n",
      "      Volume Symbol  AAPL Movement   Name                  Sector    Weight  \n",
      "0  135480400   AAPL            NaN  Apple  Information Technology  6.115734  \n",
      "1  146322800   AAPL      -0.972204  Apple  Information Technology  6.115734  \n",
      "2  118387200   AAPL       0.796825  Apple  Information Technology  6.115734  \n",
      "3  108872000   AAPL      -0.470304  Apple  Information Technology  6.115734  \n",
      "4  132079200   AAPL       1.608629  Apple  Information Technology  6.115734  \n"
     ]
    }
   ],
   "source": [
    "#Merging Data Frames to enrich the Web extract with a table of Index Constituent static data element including Name and Industry Sector\n",
    "Tickermerge1 = Stockperiod1.merge(spcons, on = 'Symbol', how = 'left', suffixes = ('_{}'.format(ticker1),'_Cons'))\\\n",
    ".merge(spwgt1, on = 'Symbol', how = 'left', suffixes = ('_{}'.format(ticker1),'_Wgt'))\n",
    "print(Tickermerge1.head())"
   ]
  },
  {
   "cell_type": "code",
   "execution_count": 17,
   "id": "6bc9050c",
   "metadata": {},
   "outputs": [
    {
     "name": "stdout",
     "output_type": "stream",
     "text": [
      "        Date        Open        High         Low       Close   Adj Close  \\\n",
      "0 2020-01-02  158.779999  160.729996  158.330002  160.619995  158.205765   \n",
      "1 2020-01-03  158.320007  159.949997  158.059998  158.619995  156.235825   \n",
      "2 2020-01-06  157.080002  159.100006  156.509995  159.029999  156.639694   \n",
      "3 2020-01-07  159.320007  159.669998  157.320007  157.580002  155.211456   \n",
      "4 2020-01-08  158.929993  160.800003  157.949997  160.089996  157.683731   \n",
      "\n",
      "     Volume Symbol  \n",
      "0  22622100   MSFT  \n",
      "1  21116200   MSFT  \n",
      "2  20813700   MSFT  \n",
      "3  21634100   MSFT  \n",
      "4  27746500   MSFT  \n",
      "<class 'pandas.core.frame.DataFrame'>\n",
      "RangeIndex: 253 entries, 0 to 252\n",
      "Data columns (total 8 columns):\n",
      " #   Column     Non-Null Count  Dtype         \n",
      "---  ------     --------------  -----         \n",
      " 0   Date       253 non-null    datetime64[ns]\n",
      " 1   Open       253 non-null    float64       \n",
      " 2   High       253 non-null    float64       \n",
      " 3   Low        253 non-null    float64       \n",
      " 4   Close      253 non-null    float64       \n",
      " 5   Adj Close  253 non-null    float64       \n",
      " 6   Volume     253 non-null    int64         \n",
      " 7   Symbol     253 non-null    object        \n",
      "dtypes: datetime64[ns](1), float64(5), int64(1), object(1)\n",
      "memory usage: 15.9+ KB\n"
     ]
    },
    {
     "data": {
      "text/plain": [
       "(253, 8)"
      ]
     },
     "execution_count": 17,
     "metadata": {},
     "output_type": "execute_result"
    }
   ],
   "source": [
    "#Pandas Data Frame using date derived from the Yahoo Finance Website\n",
    "#Confirmation of the Web read with a print out of the Data Frame head\n",
    "#Print out the Data Frame Info to verify the date type as this will be used in the merge operation to join the tables together\n",
    "Stockperiod2 = pd.read_csv(Stock2)\n",
    "Stockperiod2[\"Date\"] = pd.to_datetime(Stockperiod2[\"Date\"])\n",
    "Stockperiod2[\"Symbol\"] = ticker2\n",
    "print(Stockperiod2.head())\n",
    "Stockperiod2.info()\n",
    "Stockperiod2.shape"
   ]
  },
  {
   "cell_type": "code",
   "execution_count": 18,
   "id": "0d883aee",
   "metadata": {},
   "outputs": [
    {
     "name": "stdout",
     "output_type": "stream",
     "text": [
      "        Date        Open        High         Low       Close   Adj Close  \\\n",
      "0 2020-01-02  158.779999  160.729996  158.330002  160.619995  158.205765   \n",
      "1 2020-01-03  158.320007  159.949997  158.059998  158.619995  156.235825   \n",
      "2 2020-01-06  157.080002  159.100006  156.509995  159.029999  156.639694   \n",
      "3 2020-01-07  159.320007  159.669998  157.320007  157.580002  155.211456   \n",
      "4 2020-01-08  158.929993  160.800003  157.949997  160.089996  157.683731   \n",
      "\n",
      "     Volume Symbol  MSFT Movement  \n",
      "0  22622100   MSFT            NaN  \n",
      "1  21116200   MSFT      -1.245175  \n",
      "2  20813700   MSFT       0.258482  \n",
      "3  21634100   MSFT      -0.911776  \n",
      "4  27746500   MSFT       1.592838  \n"
     ]
    }
   ],
   "source": [
    "#Calculation to enrich the dataset with the daily movement\n",
    "Stockperiod2['{} Movement'.format(ticker2)] = ((Stockperiod2['Close'.format(ticker2)] / Stockperiod2['Close'.format(ticker2)].shift(1))-1)*100\n",
    "print(Stockperiod2.head())"
   ]
  },
  {
   "cell_type": "code",
   "execution_count": 19,
   "id": "7fa86b7b",
   "metadata": {},
   "outputs": [
    {
     "name": "stdout",
     "output_type": "stream",
     "text": [
      "        Date        Open        High         Low       Close   Adj Close  \\\n",
      "0 2020-01-02  158.779999  160.729996  158.330002  160.619995  158.205765   \n",
      "1 2020-01-03  158.320007  159.949997  158.059998  158.619995  156.235825   \n",
      "2 2020-01-06  157.080002  159.100006  156.509995  159.029999  156.639694   \n",
      "3 2020-01-07  159.320007  159.669998  157.320007  157.580002  155.211456   \n",
      "4 2020-01-08  158.929993  160.800003  157.949997  160.089996  157.683731   \n",
      "\n",
      "     Volume Symbol  MSFT Movement       Name                  Sector    Weight  \n",
      "0  22622100   MSFT            NaN  Microsoft  Information Technology  5.635407  \n",
      "1  21116200   MSFT      -1.245175  Microsoft  Information Technology  5.635407  \n",
      "2  20813700   MSFT       0.258482  Microsoft  Information Technology  5.635407  \n",
      "3  21634100   MSFT      -0.911776  Microsoft  Information Technology  5.635407  \n",
      "4  27746500   MSFT       1.592838  Microsoft  Information Technology  5.635407  \n"
     ]
    },
    {
     "data": {
      "text/plain": [
       "(253, 12)"
      ]
     },
     "execution_count": 19,
     "metadata": {},
     "output_type": "execute_result"
    }
   ],
   "source": [
    "#Merging Data Frames to enrich the Web extract with a table of Index Constituent static data element including Name and Industry Sector\n",
    "Tickermerge2 = Stockperiod2.merge(spcons, on = 'Symbol', how = 'left', suffixes = ('_{}'.format(ticker2),'_Cons'))\\\n",
    ".merge(spwgt1, on = 'Symbol', how = 'left', suffixes = ('_{}'.format(ticker2),'_Wgt'))\n",
    "print(Tickermerge2.head())\n",
    "Tickermerge2.shape"
   ]
  },
  {
   "cell_type": "code",
   "execution_count": 20,
   "id": "929c9a9f",
   "metadata": {},
   "outputs": [
    {
     "name": "stdout",
     "output_type": "stream",
     "text": [
      "          Date   Open_AAPL   High_AAPL    Low_AAPL  Close_AAPL  \\\n",
      "0   2020-01-02   74.059998   75.150002   73.797501   75.087502   \n",
      "1   2020-01-03   74.287498   75.144997   74.125000   74.357498   \n",
      "2   2020-01-06   73.447502   74.989998   73.187500   74.949997   \n",
      "3   2020-01-07   74.959999   75.224998   74.370003   74.597504   \n",
      "4   2020-01-08   74.290001   76.110001   74.290001   75.797501   \n",
      "..         ...         ...         ...         ...         ...   \n",
      "248 2020-12-24  131.320007  133.460007  131.100006  131.970001   \n",
      "249 2020-12-28  133.990005  137.339996  133.509995  136.690002   \n",
      "250 2020-12-29  138.050003  138.789993  134.339996  134.869995   \n",
      "251 2020-12-30  135.580002  135.990005  133.399994  133.720001   \n",
      "252 2020-12-31  134.080002  134.740005  131.720001  132.690002   \n",
      "\n",
      "     Adj Close_AAPL  Volume_AAPL Symbol_AAPL  AAPL Movement Name_AAPL  ...  \\\n",
      "0         74.207466    135480400        AAPL            NaN     Apple  ...   \n",
      "1         73.486023    146322800        AAPL      -0.972204     Apple  ...   \n",
      "2         74.071579    118387200        AAPL       0.796825     Apple  ...   \n",
      "3         73.723213    108872000        AAPL      -0.470304     Apple  ...   \n",
      "4         74.909149    132079200        AAPL       1.608629     Apple  ...   \n",
      "..              ...          ...         ...            ...       ...  ...   \n",
      "248      131.549637     54930100        AAPL       0.771223     Apple  ...   \n",
      "249      136.254608    124486200        AAPL       3.576571     Apple  ...   \n",
      "250      134.440399    121047300        AAPL      -1.331485     Apple  ...   \n",
      "251      133.294067     96452100        AAPL      -0.852669     Apple  ...   \n",
      "252      132.267349     99116600        AAPL      -0.770265     Apple  ...   \n",
      "\n",
      "    MSFT Movement  Name_MSFT             Sector_MSFT  Weight_MSFT  Open_Index  \\\n",
      "0             NaN  Microsoft  Information Technology     5.635407     3244.67   \n",
      "1       -1.245175  Microsoft  Information Technology     5.635407     3226.36   \n",
      "2        0.258482  Microsoft  Information Technology     5.635407     3217.55   \n",
      "3       -0.911776  Microsoft  Information Technology     5.635407     3241.86   \n",
      "4        1.592838  Microsoft  Information Technology     5.635407     3238.59   \n",
      "..            ...        ...                     ...          ...         ...   \n",
      "248      0.782733  Microsoft  Information Technology     5.635407     3694.03   \n",
      "249      0.992147  Microsoft  Information Technology     5.635407     3723.03   \n",
      "250     -0.360070  Microsoft  Information Technology     5.635407     3750.01   \n",
      "251     -1.101941  Microsoft  Information Technology     5.635407     3736.19   \n",
      "252      0.333817  Microsoft  Information Technology     5.635407     3733.27   \n",
      "\n",
      "     High_Index  Low_Index  Close_Index Volume_Index  S&P 500 Movement  \n",
      "0       3258.14    3235.53      3257.85   3458250000               NaN  \n",
      "1       3246.15    3222.34      3234.85   3461290000         -0.705987  \n",
      "2       3246.84    3214.64      3246.28   3674070000          0.353339  \n",
      "3       3244.91    3232.43      3237.18   3420380000         -0.280321  \n",
      "4       3267.07    3236.67      3253.05   3720890000          0.490242  \n",
      "..          ...        ...          ...          ...               ...  \n",
      "248     3703.82    3689.32      3703.06   1885090000          0.353658  \n",
      "249     3740.51    3723.03      3735.36   3527460000          0.872252  \n",
      "250     3756.12    3723.31      3727.04   3387030000         -0.222736  \n",
      "251     3744.63    3730.21      3732.04   3145200000          0.134155  \n",
      "252     3760.20    3726.88      3756.07   3172510000          0.643884  \n",
      "\n",
      "[253 rows x 29 columns]\n"
     ]
    },
    {
     "data": {
      "text/plain": [
       "(253, 29)"
      ]
     },
     "execution_count": 20,
     "metadata": {},
     "output_type": "execute_result"
    }
   ],
   "source": [
    "spmerge1 = Tickermerge1.merge(Tickermerge2, on = 'Date', how = 'left', suffixes = ('_{}'.format(ticker1),'_{}'.format(ticker2)))\\\n",
    ".merge(sp500, on = 'Date', how = 'left', suffixes = ('_{}'.format(ticker1),'_Index'))\n",
    "print(spmerge1)\n",
    "spmerge1.shape"
   ]
  },
  {
   "cell_type": "code",
   "execution_count": 21,
   "id": "79c01361",
   "metadata": {},
   "outputs": [
    {
     "name": "stdout",
     "output_type": "stream",
     "text": [
      "The number of days trading is 253\n",
      "The Average Price for the year is 95.35\n"
     ]
    }
   ],
   "source": [
    "#Simple Calcs using a for loop\n",
    "total = 0\n",
    "count = 0\n",
    "Average = 0\n",
    "maxval = 0\n",
    "for tick1 in spmerge1[\"Close_{}\".format(ticker1)]:\n",
    "    total = np.round(total + tick1 ,2)\n",
    "    count = count + 1\n",
    "    average = np.round(total/count, 2)\n",
    "print(\"The number of days trading is \" +str(count))\n",
    "print(\"The Average Price for the year is \" + str(average))"
   ]
  },
  {
   "cell_type": "code",
   "execution_count": 22,
   "id": "89a40752",
   "metadata": {},
   "outputs": [
    {
     "name": "stdout",
     "output_type": "stream",
     "text": [
      "        Date  Open_AAPL  High_AAPL   Low_AAPL  Close_AAPL  Adj Close_AAPL  \\\n",
      "0 2020-01-02  74.059998  75.150002  73.797501   75.087502       74.207466   \n",
      "1 2020-01-03  74.287498  75.144997  74.125000   74.357498       73.486023   \n",
      "2 2020-01-06  73.447502  74.989998  73.187500   74.949997       74.071579   \n",
      "3 2020-01-07  74.959999  75.224998  74.370003   74.597504       73.723213   \n",
      "4 2020-01-08  74.290001  76.110001  74.290001   75.797501       74.909149   \n",
      "\n",
      "   Volume_AAPL Symbol_AAPL  AAPL Movement Name_AAPL  ...  Name_MSFT  \\\n",
      "0    135480400        AAPL            NaN     Apple  ...  Microsoft   \n",
      "1    146322800        AAPL      -0.972204     Apple  ...  Microsoft   \n",
      "2    118387200        AAPL       0.796825     Apple  ...  Microsoft   \n",
      "3    108872000        AAPL      -0.470304     Apple  ...  Microsoft   \n",
      "4    132079200        AAPL       1.608629     Apple  ...  Microsoft   \n",
      "\n",
      "              Sector_MSFT  Weight_MSFT  Open_Index  High_Index  Low_Index  \\\n",
      "0  Information Technology     5.635407     3244.67     3258.14    3235.53   \n",
      "1  Information Technology     5.635407     3226.36     3246.15    3222.34   \n",
      "2  Information Technology     5.635407     3217.55     3246.84    3214.64   \n",
      "3  Information Technology     5.635407     3241.86     3244.91    3232.43   \n",
      "4  Information Technology     5.635407     3238.59     3267.07    3236.67   \n",
      "\n",
      "   Close_Index  Volume_Index S&P 500 Movement      Company Movenents  \n",
      "0      3257.85    3458250000              NaN  More Testing Required  \n",
      "1      3234.85    3461290000        -0.705987          Both Negative  \n",
      "2      3246.28    3674070000         0.353339          Both Positive  \n",
      "3      3237.18    3420380000        -0.280321          Both Negative  \n",
      "4      3253.05    3720890000         0.490242          Both Positive  \n",
      "\n",
      "[5 rows x 30 columns]\n"
     ]
    }
   ],
   "source": [
    "#Adding a Column and if condition to compare the Primary Company daily movement to that of the Comparison Company\n",
    "for ind, row in spmerge1.iterrows():\n",
    "    if row['{} Movement'.format(ticker1)] < 0 and row['{} Movement'.format(ticker2)] < 0:\n",
    "        spmerge1.loc[ind, \"Company Movenents\"] = \"Both Negative\"\n",
    "    elif row['{} Movement'.format(ticker1)] > 0 and row['{} Movement'.format(ticker2)] > 0:\n",
    "        spmerge1.loc[ind, \"Company Movenents\"] = \"Both Positive\"\n",
    "    elif row['{} Movement'.format(ticker1)] > 0 and row['{} Movement'.format(ticker2)] < 0:\n",
    "        spmerge1.loc[ind, \"Company Movenents\"] = \"Company A positive to Company B\"\n",
    "    elif row['{} Movement'.format(ticker1)] < 0 and row['{} Movement'.format(ticker2)] > 0:\n",
    "        spmerge1.loc[ind, \"Company Movenents\"] = \"Company A Negative to Company B\"\n",
    "    else:\n",
    "        spmerge1.loc[ind, \"Company Movenents\"] = \"More Testing Required\"\n",
    "\n",
    "    \n",
    "print(spmerge1.head())"
   ]
  },
  {
   "cell_type": "code",
   "execution_count": 23,
   "id": "8d9a0301",
   "metadata": {},
   "outputs": [
    {
     "name": "stdout",
     "output_type": "stream",
     "text": [
      "        Date  Open_AAPL  High_AAPL   Low_AAPL  Close_AAPL  Adj Close_AAPL  \\\n",
      "0 2020-01-02  74.059998  75.150002  73.797501   75.087502       74.207466   \n",
      "1 2020-01-03  74.287498  75.144997  74.125000   74.357498       73.486023   \n",
      "2 2020-01-06  73.447502  74.989998  73.187500   74.949997       74.071579   \n",
      "3 2020-01-07  74.959999  75.224998  74.370003   74.597504       73.723213   \n",
      "4 2020-01-08  74.290001  76.110001  74.290001   75.797501       74.909149   \n",
      "\n",
      "   Volume_AAPL Symbol_AAPL  AAPL Movement Name_AAPL  ...  \\\n",
      "0    135480400        AAPL            NaN     Apple  ...   \n",
      "1    146322800        AAPL      -0.972204     Apple  ...   \n",
      "2    118387200        AAPL       0.796825     Apple  ...   \n",
      "3    108872000        AAPL      -0.470304     Apple  ...   \n",
      "4    132079200        AAPL       1.608629     Apple  ...   \n",
      "\n",
      "              Sector_MSFT  Weight_MSFT  Open_Index  High_Index  Low_Index  \\\n",
      "0  Information Technology     5.635407     3244.67     3258.14    3235.53   \n",
      "1  Information Technology     5.635407     3226.36     3246.15    3222.34   \n",
      "2  Information Technology     5.635407     3217.55     3246.84    3214.64   \n",
      "3  Information Technology     5.635407     3241.86     3244.91    3232.43   \n",
      "4  Information Technology     5.635407     3238.59     3267.07    3236.67   \n",
      "\n",
      "   Close_Index  Volume_Index  S&P 500 Movement      Company Movenents  \\\n",
      "0      3257.85    3458250000               NaN  More Testing Required   \n",
      "1      3234.85    3461290000         -0.705987          Both Negative   \n",
      "2      3246.28    3674070000          0.353339          Both Positive   \n",
      "3      3237.18    3420380000         -0.280321          Both Negative   \n",
      "4      3253.05    3720890000          0.490242          Both Positive   \n",
      "\n",
      "          Index Movenent  \n",
      "0  More Testing Required  \n",
      "1          Both Negative  \n",
      "2          Both Positive  \n",
      "3          Both Negative  \n",
      "4          Both Positive  \n",
      "\n",
      "[5 rows x 31 columns]\n"
     ]
    }
   ],
   "source": [
    "#Adding a Column and if condition to compare the Primary Company daily movement to that of the Index\n",
    "for ind, row in spmerge1.iterrows():\n",
    "    if row['{} Movement'.format(ticker1)] < 0 and row['S&P 500 Movement'] < 0:\n",
    "        spmerge1.loc[ind, \"Index Movenent\"] = \"Both Negative\"\n",
    "    elif row['{} Movement'.format(ticker1)] > 0 and row['S&P 500 Movement'] > 0:\n",
    "        spmerge1.loc[ind, \"Index Movenent\"] = \"Both Positive\"\n",
    "    elif row['{} Movement'.format(ticker1)] > 0 and row['S&P 500 Movement'] < 0:\n",
    "        spmerge1.loc[ind, \"Index Movenent\"] = \"Company A positive to Company B\"\n",
    "    elif row['{} Movement'.format(ticker1)] < 0 and row['S&P 500 Movement'] > 0:\n",
    "        spmerge1.loc[ind, \"Index Movenent\"] = \"Company A Negative to Company B\"\n",
    "    else:\n",
    "        spmerge1.loc[ind, \"Index Movenent\"] = \"More Testing Required\"\n",
    "\n",
    "    \n",
    "print(spmerge1.head())"
   ]
  },
  {
   "cell_type": "code",
   "execution_count": null,
   "id": "246704fe",
   "metadata": {},
   "outputs": [],
   "source": []
  }
 ],
 "metadata": {
  "kernelspec": {
   "display_name": "Python 3",
   "language": "python",
   "name": "python3"
  },
  "language_info": {
   "codemirror_mode": {
    "name": "ipython",
    "version": 3
   },
   "file_extension": ".py",
   "mimetype": "text/x-python",
   "name": "python",
   "nbconvert_exporter": "python",
   "pygments_lexer": "ipython3",
   "version": "3.8.8"
  }
 },
 "nbformat": 4,
 "nbformat_minor": 5
}
